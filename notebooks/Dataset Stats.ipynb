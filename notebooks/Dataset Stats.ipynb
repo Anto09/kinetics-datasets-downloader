{
 "cells": [
  {
   "cell_type": "code",
   "execution_count": 1,
   "metadata": {},
   "outputs": [
    {
     "data": {
      "text/plain": [
       "131072"
      ]
     },
     "execution_count": 1,
     "metadata": {},
     "output_type": "execute_result"
    }
   ],
   "source": [
    "# IMPORTS\n",
    "from pathlib import Path\n",
    "import json\n",
    "import pandas as pd\n",
    "import numpy as np\n",
    "import sys\n",
    "import csv\n",
    "from collections import defaultdict\n",
    "import json\n",
    "\n",
    "csv.field_size_limit(sys.maxsize)"
   ]
  },
  {
   "cell_type": "code",
   "execution_count": 2,
   "metadata": {},
   "outputs": [],
   "source": [
    "# CONSTANTS\n",
    "BASE_DIR = Path.cwd().parent\n",
    "STATS_DIR = BASE_DIR / 'stats'\n",
    "KINETICS_DIR = BASE_DIR / 'work_dir' / 'kinetics_700'"
   ]
  },
  {
   "cell_type": "code",
   "execution_count": 3,
   "metadata": {},
   "outputs": [],
   "source": [
    "def get_stats_files():\n",
    "    fieldnames = ['video_id', 'label', 'status', 'download_duration', 'ffmpeg_duration', 'total_duration', 'average_duration', 'elapsed', 'iteration', 'skipped_iteration', 'queue_id', 'pid']\n",
    "    stats = []\n",
    "    stats_dict = {}\n",
    "    failed = []\n",
    "    for file_path in STATS_DIR.iterdir():\n",
    "        if 'csv' in file_path.suffix:\n",
    "            with file_path.open(mode='r') as lf:                \n",
    "                csv_reader = csv.DictReader(lf, delimiter=',')\n",
    "                if 'stats' in file_path.stem:\n",
    "                    for index, row in enumerate(csv_reader):\n",
    "                        if row['video_id'] != 'video_id':\n",
    "                            stats.append(dict(row))\n",
    "                            stats_dict[row['video_id']] = dict(row)\n",
    "                            \n",
    "                if 'failed' in file_path.stem:\n",
    "                    csv_reader = csv.DictReader(lf, delimiter=',', fieldnames=['video_id', 'class', 'error'])\n",
    "                    for index, row in enumerate(csv_reader):\n",
    "                        failed.append(row)\n",
    "                        \n",
    "    return stats_dict, failed\n",
    "output, failed = get_stats_files()"
   ]
  },
  {
   "cell_type": "code",
   "execution_count": 4,
   "metadata": {},
   "outputs": [
    {
     "name": "stdout",
     "output_type": "stream",
     "text": [
      "298651 15792\n"
     ]
    }
   ],
   "source": [
    "print(len(output), len(failed))"
   ]
  },
  {
   "cell_type": "code",
   "execution_count": 5,
   "metadata": {},
   "outputs": [
    {
     "name": "stdout",
     "output_type": "stream",
     "text": [
      "9\n",
      "977 Got server HTTP error: HTTP Error 404: Not Found.\n",
      "10817 video is not available\n",
      "167 miscelleneous\n",
      "2458 Content Warning\n",
      "341 This video has been removed by the user\n",
      "135 been removed for violating\n",
      "672 copyright\n",
      "2 : This video is a duplicate of another YouTube video\\n'\n",
      "1 Got server HTTP error: HTTP Error 503: Service Unavailable\n"
     ]
    }
   ],
   "source": [
    "def generate_unique_error(failed_list):\n",
    "    unique_error = set([item['error'] for item in failed])\n",
    "    filtered_error = []\n",
    "    error_dict = defaultdict(list)\n",
    "    for index, item in enumerate(unique_error):\n",
    "        if 'Got server HTTP error: HTTP Error 404: Not Found.' in item:\n",
    "            filtered_error.append('Got server HTTP error: HTTP Error 404: Not Found.')\n",
    "            error_dict['Got server HTTP error: HTTP Error 404: Not Found.'].append(item)\n",
    "        \n",
    "        elif 'copyright' in item:\n",
    "            filtered_error.append('copyright')\n",
    "            error_dict['copyright'].append(item)\n",
    "            \n",
    "        elif 'This video is unavailable' in item or 'no longer available' in item or 'is not available' in item or 'this video available' in item:\n",
    "            filtered_error.append('video is not available')\n",
    "            error_dict['video is not available'].append(item)\n",
    "            \n",
    "#         elif 'who has blocked it on copyright grounds.' in item:\n",
    "#             filtered_error.append('who has blocked it on copyright grounds.')\n",
    "#             error_dict['who has blocked it on copyright grounds.'].append(item)\n",
    "            \n",
    "#         elif 'This video is no longer available due to a copyright claim by' in item:\n",
    "#             filtered_error.append('This video is no longer available due to a copyright claim by')\n",
    "#             error_dict['This video is no longer available due to a copyright claim by'].append(item)\n",
    "            \n",
    "#         elif 'unable to download video data: Remote end closed connection without response' in item:\n",
    "#             filtered_error.append('unable to download video data: Remote end closed connection without response')\n",
    "#             error_dict['unable to download video data: Remote end closed connection without response'].append(item)\n",
    "            \n",
    "#         elif 'It is not available in your country.' in item:\n",
    "#             filtered_error.append('It is not available in your country.')\n",
    "#             error_dict['It is not available in your country.'].append(item)\n",
    "            \n",
    "#         elif 'This video is not available.' in item:\n",
    "#             filtered_error.append('This video is not available.')\n",
    "#             error_dict['This video is not available.'].append(item)\n",
    "            \n",
    "#         elif 'The uploader has not made this video available in your country.' in item:\n",
    "#             filtered_error.append('The uploader has not made this video available in your country.')\n",
    "#             error_dict['The uploader has not made this video available in your country.'].append(item)\n",
    "            \n",
    "#         elif 'This video is no longer available due to a privacy claim by a third party.' in item:\n",
    "#             filtered_error.append('This video is no longer available due to a privacy claim by a third party.')\n",
    "#             error_dict['This video is no longer available due to a privacy claim by a third party.'].append(item)\n",
    "            \n",
    "#         elif 'This video is no longer available because the YouTube account associated with this video has been terminated.' in item:\n",
    "#             filtered_error.append('This video is no longer available because the YouTube account associated with this video has been terminated.')\n",
    "#             error_dict['This video is no longer available because the YouTube account associated with this video has been terminated.'].append(item)\n",
    "            \n",
    "#         elif 'who has blocked it in your country on copyright grounds' in item:\n",
    "#             filtered_error.append('who has blocked it in your country on copyright grounds')\n",
    "#             error_dict['who has blocked it in your country on copyright grounds'].append(item)\n",
    "            \n",
    "#         elif 'The YouTube account associated with this video has been terminated due to multiple third-party notifications of copyright infringement.' in item:\n",
    "#             filtered_error.append('The YouTube account associated with this video has been terminated due to multiple third-party notifications of copyright infringement.')\n",
    "#             error_dict['The YouTube account associated with this video has been terminated due to multiple third-party notifications of copyright infringement.'].append(item)\n",
    "        \n",
    "#         elif 'unable to download video data: The read operation timed out' in item:\n",
    "#             filtered_error.append('unable to download video data: The read operation timed out')\n",
    "#             error_dict['unable to download video data: The read operation timed out'].append(item)\n",
    "            \n",
    "#         elif \"This video has been removed for violating YouTube's Community Guidelines.\" in item:\n",
    "#             filtered_error.append(\"This video has been removed for violating YouTube's Community Guidelines.\")\n",
    "#             error_dict[\"This video has been removed for violating YouTube's Community Guidelines.\"].append(item)\n",
    "            \n",
    "#         elif \"This video is unavailable.\" in item:\n",
    "#             filtered_error.append(\"This video is unavailable.\")\n",
    "#             error_dict[\"This video is unavailable.\"].append(item)\n",
    "            \n",
    "#         elif \"This video is not available\" in item:\n",
    "#             filtered_error.append(\"This video is not available\")\n",
    "#             error_dict[\"This video is not available\"].append(item)\n",
    "            \n",
    "        elif \"Got server HTTP error: HTTP Error 503: Service Unavailable\" in item:\n",
    "            filtered_error.append(\"Got server HTTP error: HTTP Error 503: Service Unavailable\")\n",
    "            error_dict[\"Got server HTTP error: HTTP Error 503: Service Unavailable\"].append(item)\n",
    "            \n",
    "#         elif \"object has no attribute\" in item:\n",
    "#             filtered_error.append(\"object has no attribute\")\n",
    "#             error_dict[\"object has no attribute\"].append(item)\n",
    "            \n",
    "        elif \"Content Warning\" in item:\n",
    "            filtered_error.append(\"Content Warning\")\n",
    "            error_dict[\"Content Warning\"].append(item)\n",
    "        \n",
    "        elif \"This video has been removed by the user\" in item:\n",
    "            filtered_error.append(\"This video has been removed by the user\")\n",
    "            error_dict[\"This video has been removed by the user\"].append(item)\n",
    "            \n",
    "#         elif \"This video is no longer available because the uploader has closed their YouTube account.\" in item:\n",
    "#             filtered_error.append(\"This video is no longer available because the uploader has closed their YouTube account.\")\n",
    "#             error_dict[\"This video is no longer available because the uploader has closed their YouTube account.\"].append(item)\n",
    "        \n",
    "#         elif \"This video has been removed for violating YouTube's policy on nudity or sexual content.\" in item:\n",
    "#             filtered_error.append(\"This video has been removed for violating YouTube's policy on nudity or sexual content.\")\n",
    "#             error_dict[\"This video has been removed for violating YouTube's policy on nudity or sexual content.\"].append(item)\n",
    "        \n",
    "#         elif \"Name or service not known\" in item:\n",
    "#             filtered_error.append(\"Name or service not known\")\n",
    "#             error_dict[\"Name or service not known\"].append(item)\n",
    "            \n",
    "#         elif \"Unable to download webpage: Remote end closed connection without response\" in item:\n",
    "#             filtered_error.append(\"Unable to download webpage: Remote end closed connection without response\")\n",
    "#             error_dict[\"Unable to download webpage: Remote end closed connection without response\"].append(item)\n",
    "        \n",
    "#         elif \"This video has been removed for violating YouTube's policy on spam, deceptive practices, and scams.\" in item:\n",
    "#             filtered_error.append(\"This video has been removed for violating YouTube's policy on spam, deceptive practices, and scams.\")\n",
    "#             error_dict[\"This video has been removed for violating YouTube's policy on spam, deceptive practices, and scams.\"].append(item)\n",
    "        \n",
    "        elif 'been removed for violating' in item:\n",
    "            filtered_error.append(\"been removed for violating\")\n",
    "            error_dict[\"been removed for violating\"].append(item)\n",
    "            \n",
    "        elif 'nable to download' in item or \"object has no attribute\" in item or 'Name or service not known' in item:\n",
    "            filtered_error.append(\"miscelleneous\")\n",
    "            error_dict[\"miscelleneous\"].append(item)\n",
    "            \n",
    "        else:\n",
    "            filtered_error.append(item.split(\"ERROR\")[-1])\n",
    "            error_dict[item.split(\"ERROR\")[-1]].append(item)\n",
    "            \n",
    "    return set(filtered_error), error_dict\n",
    "    \n",
    "filtered_error, error_dict = generate_unique_error(failed)\n",
    "print(len(filtered_error))\n",
    "for key, value in error_dict.items():\n",
    "    print(len(value), key)"
   ]
  },
  {
   "cell_type": "code",
   "execution_count": 6,
   "metadata": {},
   "outputs": [],
   "source": [
    "def read_results_file(source):\n",
    "#     pd_json = pd.read_json(RESULTS_PATH)\n",
    "    with source.open(mode='r') as results_json:\n",
    "        data = json.load(results_json)\n",
    "    return data\n",
    "\n",
    "results_data = read_results_file(STATS_DIR / 'result.json')\n",
    "# print(pd_json.head())"
   ]
  },
  {
   "cell_type": "code",
   "execution_count": 7,
   "metadata": {},
   "outputs": [
    {
     "name": "stdout",
     "output_type": "stream",
     "text": [
      "646257\n"
     ]
    }
   ],
   "source": [
    "print(len(results_data.keys()))"
   ]
  },
  {
   "cell_type": "code",
   "execution_count": 8,
   "metadata": {},
   "outputs": [],
   "source": [
    "def read_kinetics_data():\n",
    "    all_data = {}\n",
    "    for f1 in KINETICS_DIR.iterdir():\n",
    "        if f1.stem in ['test', 'train', 'val']:\n",
    "            for f2 in f1.iterdir():\n",
    "                if f2.suffix == '.json':\n",
    "                    data = read_results_file(f2)\n",
    "                    all_data.update(data)\n",
    "    return all_data\n",
    "            \n",
    "\n",
    "kinetics_data = read_kinetics_data()    "
   ]
  },
  {
   "cell_type": "code",
   "execution_count": 9,
   "metadata": {},
   "outputs": [
    {
     "name": "stdout",
     "output_type": "stream",
     "text": [
      "646984\n"
     ]
    }
   ],
   "source": [
    "print(len(kinetics_data.keys()))"
   ]
  },
  {
   "cell_type": "code",
   "execution_count": 38,
   "metadata": {},
   "outputs": [],
   "source": [
    "results_keys = {Path(key).stem: True for key in results_data.keys() if Path(key).suffix == '.mp4'}\n",
    "kinetics_keys = {key: True for key in kinetics_data.keys()}"
   ]
  },
  {
   "cell_type": "code",
   "execution_count": 39,
   "metadata": {},
   "outputs": [
    {
     "name": "stdout",
     "output_type": "stream",
     "text": [
      "['---v8pgm1eQ', '--0kKuQu4Gs', '--1f2DTKcwg', '--2V_kDPfDg', '--3X_T3dnAE']\n"
     ]
    }
   ],
   "source": [
    "# print(results_keys[:5], kinetics_keys[:5])\n",
    "print([key for key in list(results_keys.keys())[:5] if key])"
   ]
  },
  {
   "cell_type": "code",
   "execution_count": 45,
   "metadata": {},
   "outputs": [],
   "source": [
    "results_not_in_kinetics = [key for key in results_keys.keys() if not kinetics_keys.get(key)]\n",
    "kinetics_not_in_results = [key for key in kinetics_keys.keys() if not results_keys.get(key)]\n",
    "\n",
    "failed_dict = {item['video_id']: True for item in failed}\n",
    "missing_in_failed = [key for key in kinetics_not_in_results if failed_dict.get(key)]\n",
    "# failed_not_in_missing = [key for key in failed_dict.keys() if kinetics_not_in_results.get(key)]"
   ]
  },
  {
   "cell_type": "code",
   "execution_count": 47,
   "metadata": {},
   "outputs": [
    {
     "name": "stdout",
     "output_type": "stream",
     "text": [
      "results_not_in_kinetics 12278\n",
      "kinetics_not_in_results 15380 -412\n",
      "missing_in_failed 15380 15792\n"
     ]
    }
   ],
   "source": [
    "print('results_not_in_kinetics', len(results_not_in_kinetics))\n",
    "print('kinetics_not_in_results', len(kinetics_not_in_results), len(kinetics_not_in_results) - len(failed))\n",
    "print('missing_in_failed', len(missing_in_failed), len(failed))"
   ]
  },
  {
   "cell_type": "code",
   "execution_count": null,
   "metadata": {},
   "outputs": [],
   "source": []
  },
  {
   "cell_type": "code",
   "execution_count": null,
   "metadata": {},
   "outputs": [],
   "source": []
  }
 ],
 "metadata": {
  "kernelspec": {
   "display_name": "Python 3",
   "language": "python",
   "name": "python3"
  },
  "language_info": {
   "codemirror_mode": {
    "name": "ipython",
    "version": 3
   },
   "file_extension": ".py",
   "mimetype": "text/x-python",
   "name": "python",
   "nbconvert_exporter": "python",
   "pygments_lexer": "ipython3",
   "version": "3.7.2"
  }
 },
 "nbformat": 4,
 "nbformat_minor": 4
}
